{
 "cells": [
  {
   "cell_type": "code",
   "execution_count": 6,
   "id": "dd085ab8",
   "metadata": {},
   "outputs": [],
   "source": [
    "def hours():\n",
    "    return(\"Open 9 - 5 daily\")"
   ]
  },
  {
   "cell_type": "code",
   "execution_count": 7,
   "id": "d717a824",
   "metadata": {},
   "outputs": [
    {
     "name": "stdout",
     "output_type": "stream",
     "text": [
      "Open 9 - 5 daily\n"
     ]
    }
   ],
   "source": [
    "import zoo\n",
    "\n",
    "print(zoo.hours())"
   ]
  },
  {
   "cell_type": "code",
   "execution_count": 8,
   "id": "a96437a6",
   "metadata": {},
   "outputs": [
    {
     "name": "stdout",
     "output_type": "stream",
     "text": [
      "Open 9 - 5 daily\n"
     ]
    }
   ],
   "source": [
    "import zoo as menagerie\n",
    "\n",
    "print(menagerie.hours())"
   ]
  },
  {
   "cell_type": "code",
   "execution_count": 9,
   "id": "094f8ae8",
   "metadata": {},
   "outputs": [
    {
     "data": {
      "text/plain": [
       "<sqlite3.Cursor at 0x2056f8c24c0>"
      ]
     },
     "execution_count": 9,
     "metadata": {},
     "output_type": "execute_result"
    }
   ],
   "source": [
    "import sqlite3\n",
    "con = sqlite3.connect(\"books.db\")\n",
    "cur = con.cursor()\n",
    "\n",
    "cur.execute(\"CREATE TABLE books(title VARCHAR(100) PRIMARY KEY, author VARCHAR(100), year INT)\")\n",
    "cur.execute('INSERT INTO books VALUES(\"The Weirdstone of Brisingamen\", \"Alan Garner\", 1960)')\n",
    "cur.execute('INSERT INTO books VALUES(\"Perdido Street Station\", \"China Miéville\", 2000)')\n",
    "cur.execute('INSERT INTO books VALUES(\"Thud!\", \"Terry Pratchett\", 2005)')\n",
    "cur.execute('INSERT INTO books VALUES(\"The Spellman Files\", \"Lisa Lutz\", 2007)')\n",
    "cur.execute('INSERT INTO books VALUES(\"Small Gods\", \"Terry Pratchett\", 1992)')\n"
   ]
  },
  {
   "cell_type": "code",
   "execution_count": 10,
   "id": "514e0b4a",
   "metadata": {},
   "outputs": [
    {
     "name": "stdout",
     "output_type": "stream",
     "text": [
      "[('Perdido Street Station', 'China Miéville', 2000), ('Small Gods', 'Terry Pratchett', 1992), ('The Spellman Files', 'Lisa Lutz', 2007), ('The Weirdstone of Brisingamen', 'Alan Garner', 1960), ('Thud!', 'Terry Pratchett', 2005)]\n"
     ]
    }
   ],
   "source": [
    "import sqlalchemy\n",
    "\n",
    "engine = sqlalchemy.create_engine('sqlite:///books.db')\n",
    "\n",
    "with engine.connect() as conn:\n",
    "    cur.execute(\"SELECT * FROM books ORDER BY title\")\n",
    "    rows = cur.fetchall()\n",
    "    print(rows)\n",
    "\n",
    "cur.close()\n",
    "con.close()\n",
    "conn.close()"
   ]
  }
 ],
 "metadata": {
  "kernelspec": {
   "display_name": "Python 3 (ipykernel)",
   "language": "python",
   "name": "python3"
  },
  "language_info": {
   "codemirror_mode": {
    "name": "ipython",
    "version": 3
   },
   "file_extension": ".py",
   "mimetype": "text/x-python",
   "name": "python",
   "nbconvert_exporter": "python",
   "pygments_lexer": "ipython3",
   "version": "3.10.9"
  }
 },
 "nbformat": 4,
 "nbformat_minor": 5
}
