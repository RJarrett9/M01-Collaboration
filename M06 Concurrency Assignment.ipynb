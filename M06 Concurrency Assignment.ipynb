{
 "cells": [
  {
   "cell_type": "code",
   "execution_count": 1,
   "id": "9db0cf92",
   "metadata": {},
   "outputs": [],
   "source": [
    "import datetime\n",
    "\n",
    "dateFile = open(\"today.txt\", 'w')\n",
    "\n",
    "currentDate = str(datetime.date.today())\n",
    "\n",
    "dateFile.write(currentDate)\n",
    "\n",
    "dateFile.close()"
   ]
  },
  {
   "cell_type": "code",
   "execution_count": 2,
   "id": "4af9dd3c",
   "metadata": {},
   "outputs": [
    {
     "name": "stdout",
     "output_type": "stream",
     "text": [
      "2023-07-13\n"
     ]
    }
   ],
   "source": [
    "import datetime\n",
    "\n",
    "dateFile = open(\"today.txt\", 'r')\n",
    "\n",
    "today_string = str(dateFile.read())\n",
    "\n",
    "print(today_string)\n",
    "\n",
    "dateFile.close()"
   ]
  },
  {
   "cell_type": "code",
   "execution_count": 3,
   "id": "0404c90b",
   "metadata": {},
   "outputs": [
    {
     "name": "stdout",
     "output_type": "stream",
     "text": [
      "['2023', '07', '13']\n"
     ]
    }
   ],
   "source": [
    "import datetime\n",
    "\n",
    "dateFile = open(\"today.txt\", 'r')\n",
    "\n",
    "today_string = str(dateFile.read())\n",
    "\n",
    "today_string = today_string.split(\"-\")\n",
    "\n",
    "print(today_string)\n",
    "\n",
    "dateFile.close()"
   ]
  },
  {
   "cell_type": "code",
   "execution_count": 1,
   "id": "28ffdcf1",
   "metadata": {},
   "outputs": [
    {
     "name": "stdout",
     "output_type": "stream",
     "text": [
      "Process 16020 says: Starting extra Programs\n"
     ]
    }
   ],
   "source": [
    "import multiprocessing\n",
    "import datetime\n",
    "\n",
    "def whattimeisit(what):\n",
    "    from os import getpid\n",
    "    print(\"Process %s says: %s\" % (getpid(), what))\n",
    "\n",
    "if __name__ == \"__main__\":\n",
    "    from random import random\n",
    "    from time import sleep\n",
    "\n",
    "    whattimeisit(\"Starting extra Programs\")\n",
    "    for n in range(3):\n",
    "        sleep(random())\n",
    "        now = datetime.datetime.now()\n",
    "        now = now.time()\n",
    "        p = multiprocessing.Process(target=whattimeisit,\n",
    "          args=(\"The current time is %s\" % now,))\n",
    "        p.start()\n",
    "\n",
    "        if n == '2':\n",
    "            p.terminate()"
   ]
  },
  {
   "cell_type": "markdown",
   "id": "f2099a22",
   "metadata": {},
   "source": [
    "Process 8808 says: The current time is 18:02:32.239393\n",
    "Process 11800 says: The current time is 18:02:32.932578\n",
    "Process 10920 says: The current time is 18:02:33.829525\n",
    "\n",
    "^ Results from my VSCode tests\n",
    "\n",
    "Jupyter Notbook doesnt seem to support multiprocessing, or at least needs a thread pool. Every attempt I tried resulted in \n",
    "\n",
    "Traceback (most recent call last):\n",
    "  File \"<string>\", line 1, in <module>\n",
    "  File \"C:\\Users\\rjarr\\anaconda3\\lib\\multiprocessing\\spawn.py\", line 116, in spawn_main\n",
    "    exitcode = _main(fd, parent_sentinel)\n",
    "  File \"C:\\Users\\rjarr\\anaconda3\\lib\\multiprocessing\\spawn.py\", line 126, in _main\n",
    "    self = reduction.pickle.load(from_parent)\n",
    "AttributeError: Can't get attribute 'whoami' on <module '__main__' (built-in)>\n",
    "Traceback (most recent call last):\n",
    "  File \"<string>\", line 1, in <module>\n",
    "  File \"C:\\Users\\rjarr\\anaconda3\\lib\\multiprocessing\\spawn.py\", line 116, in spawn_main\n",
    "    exitcode = _main(fd, parent_sentinel)\n",
    "  File \"C:\\Users\\rjarr\\anaconda3\\lib\\multiprocessing\\spawn.py\", line 126, in _main\n",
    "    self = reduction.pickle.load(from_parent)\n",
    "AttributeError: Can't get attribute 'whoami' on <module '__main__' (built-in)>\n",
    "Traceback (most recent call last):\n",
    "  File \"<string>\", line 1, in <module>\n",
    "  File \"C:\\Users\\rjarr\\anaconda3\\lib\\multiprocessing\\spawn.py\", line 116, in spawn_main\n",
    "    exitcode = _main(fd, parent_sentinel)\n",
    "  File \"C:\\Users\\rjarr\\anaconda3\\lib\\multiprocessing\\spawn.py\", line 126, in _main\n",
    "    self = reduction.pickle.load(from_parent)\n",
    "AttributeError: Can't get attribute 'whoami' on <module '__main__' (built-in)>"
   ]
  }
 ],
 "metadata": {
  "kernelspec": {
   "display_name": "Python 3 (ipykernel)",
   "language": "python",
   "name": "python3"
  },
  "language_info": {
   "codemirror_mode": {
    "name": "ipython",
    "version": 3
   },
   "file_extension": ".py",
   "mimetype": "text/x-python",
   "name": "python",
   "nbconvert_exporter": "python",
   "pygments_lexer": "ipython3",
   "version": "3.10.9"
  }
 },
 "nbformat": 4,
 "nbformat_minor": 5
}
