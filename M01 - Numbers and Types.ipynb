{
 "cells": [
  {
   "cell_type": "code",
   "execution_count": 1,
   "id": "ef836b50",
   "metadata": {},
   "outputs": [
    {
     "data": {
      "text/plain": [
       "3600"
      ]
     },
     "execution_count": 1,
     "metadata": {},
     "output_type": "execute_result"
    }
   ],
   "source": [
    "60 * 60"
   ]
  },
  {
   "cell_type": "code",
   "execution_count": 2,
   "id": "174abfe6",
   "metadata": {},
   "outputs": [],
   "source": [
    "seconds_per_hour = Out[1]"
   ]
  },
  {
   "cell_type": "code",
   "execution_count": 3,
   "id": "39c2ba47",
   "metadata": {},
   "outputs": [
    {
     "data": {
      "text/plain": [
       "86400"
      ]
     },
     "execution_count": 3,
     "metadata": {},
     "output_type": "execute_result"
    }
   ],
   "source": [
    "seconds_per_hour * 24"
   ]
  },
  {
   "cell_type": "code",
   "execution_count": 4,
   "id": "02e4a45c",
   "metadata": {},
   "outputs": [],
   "source": [
    "seconds_per_day = Out[3]"
   ]
  },
  {
   "cell_type": "code",
   "execution_count": 5,
   "id": "2644bfd7",
   "metadata": {},
   "outputs": [
    {
     "data": {
      "text/plain": [
       "24.0"
      ]
     },
     "execution_count": 5,
     "metadata": {},
     "output_type": "execute_result"
    }
   ],
   "source": [
    "seconds_per_day / seconds_per_hour"
   ]
  },
  {
   "cell_type": "code",
   "execution_count": 6,
   "id": "6b80bfd4",
   "metadata": {},
   "outputs": [
    {
     "data": {
      "text/plain": [
       "24"
      ]
     },
     "execution_count": 6,
     "metadata": {},
     "output_type": "execute_result"
    }
   ],
   "source": [
    "seconds_per_day // seconds_per_hour"
   ]
  },
  {
   "cell_type": "markdown",
   "id": "c09d3ba7",
   "metadata": {},
   "source": [
    "Yes, the answers between both types of division are the same"
   ]
  }
 ],
 "metadata": {
  "kernelspec": {
   "display_name": "Python 3 (ipykernel)",
   "language": "python",
   "name": "python3"
  },
  "language_info": {
   "codemirror_mode": {
    "name": "ipython",
    "version": 3
   },
   "file_extension": ".py",
   "mimetype": "text/x-python",
   "name": "python",
   "nbconvert_exporter": "python",
   "pygments_lexer": "ipython3",
   "version": "3.10.9"
  }
 },
 "nbformat": 4,
 "nbformat_minor": 5
}
